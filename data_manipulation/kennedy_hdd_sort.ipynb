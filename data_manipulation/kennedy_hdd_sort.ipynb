{
 "cells": [
  {
   "cell_type": "code",
   "execution_count": 1,
   "metadata": {},
   "outputs": [],
   "source": [
    "import os"
   ]
  },
  {
   "cell_type": "code",
   "execution_count": 7,
   "metadata": {},
   "outputs": [],
   "source": [
    "# source_dir = '/Volumes/LaCie/Kennedy HDD Backup/'\n",
    "source_dir = '/Volumes/LaCie/test_dir/'\n",
    "dest_dir = '/Volumes/LaCie/test_dir_2/'\n",
    "os.chdir(source_dir)"
   ]
  },
  {
   "cell_type": "code",
   "execution_count": 9,
   "metadata": {},
   "outputs": [
    {
     "name": "stdout",
     "output_type": "stream",
     "text": [
      "/Volumes/LaCie/test_dir/one\n",
      "01-01-01\n",
      "/Volumes/LaCie/test_dir/three\n",
      "03-03-03\n",
      "/Volumes/LaCie/test_dir/two\n",
      "01-01-01\n",
      "02-02-02\n"
     ]
    }
   ],
   "source": [
    "for zip_dir in os.listdir():\n",
    "    print(source_dir + zip_dir)\n",
    "    os.chdir(source_dir + zip_dir)\n",
    "    for date_dir in os.listdir():\n",
    "        print(date_dir)"
   ]
  },
  {
   "cell_type": "code",
   "execution_count": null,
   "metadata": {},
   "outputs": [],
   "source": []
  }
 ],
 "metadata": {
  "kernelspec": {
   "display_name": "Python 3.7.13 ('tf')",
   "language": "python",
   "name": "python3"
  },
  "language_info": {
   "codemirror_mode": {
    "name": "ipython",
    "version": 3
   },
   "file_extension": ".py",
   "mimetype": "text/x-python",
   "name": "python",
   "nbconvert_exporter": "python",
   "pygments_lexer": "ipython3",
   "version": "3.7.13"
  },
  "orig_nbformat": 4,
  "vscode": {
   "interpreter": {
    "hash": "dc1b947dce198ff7f2d2cb152b2cbb61132fce4429fa808fd5b89ac4d7df39fa"
   }
  }
 },
 "nbformat": 4,
 "nbformat_minor": 2
}
