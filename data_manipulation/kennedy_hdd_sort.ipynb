{
 "cells": [
  {
   "cell_type": "markdown",
   "metadata": {},
   "source": [
    "The objective of this notebook is to take the many files and directories from the Google Drive download of Allison Kennedy's HDD backup, and to unify and organize them by date in a new directory."
   ]
  },
  {
   "cell_type": "code",
   "execution_count": 1,
   "metadata": {},
   "outputs": [],
   "source": [
    "import os\n",
    "import shutil"
   ]
  },
  {
   "cell_type": "markdown",
   "metadata": {},
   "source": [
    "**STOP:**\n",
    "Before going any further, make sure both `source_dir` and `dest_dir` exist.  Also make sure `dest_dir` is an empty directory."
   ]
  },
  {
   "cell_type": "code",
   "execution_count": 2,
   "metadata": {},
   "outputs": [],
   "source": [
    "source_dir = '/Volumes/LaCie/Kennedy HDD Backup/'\n",
    "dest_dir = '/Volumes/LaCie/Kennedy HDD Backup Sorted/'\n",
    "# source_dir = '/Volumes/LaCie/test_dir/'\n",
    "# dest_dir = '/Volumes/LaCie/test_dir_2/'\n",
    "os.chdir(source_dir)"
   ]
  },
  {
   "cell_type": "code",
   "execution_count": 3,
   "metadata": {},
   "outputs": [],
   "source": [
    "dates = []"
   ]
  },
  {
   "cell_type": "markdown",
   "metadata": {},
   "source": [
    "**Warning:** This is taking place on an external drive, which has hidden duplicate files beginning with `._`.  There is some boilerplate here to help the copying process get over that fact."
   ]
  },
  {
   "cell_type": "code",
   "execution_count": 4,
   "metadata": {},
   "outputs": [],
   "source": [
    "for zip_dir in os.listdir():\n",
    "    # print(source_dir + zip_dir)\n",
    "    if zip_dir[0:2] != '._':\n",
    "        os.chdir(source_dir + zip_dir)\n",
    "        for date_dir in os.listdir():\n",
    "            if date_dir[0:2] != '._':\n",
    "                # print(date_dir)\n",
    "                if date_dir not in dates:\n",
    "                    dates.append(date_dir)\n",
    "                    # make date directory in destination directory\n",
    "                    os.chdir(dest_dir)\n",
    "                    os.mkdir(date_dir)\n",
    "                # go into date directory (in source folder) and copy all the files to the destination date folder\n",
    "                os.chdir(source_dir + zip_dir + '/' + date_dir)\n",
    "                for file in os.listdir():\n",
    "                    if file[0:2] != '._':\n",
    "                        # print(file)\n",
    "                        src = source_dir + zip_dir + '/' + date_dir + '/' + file\n",
    "                        try:\n",
    "                            shutil.copy2(src, dest_dir+date_dir+'/')\n",
    "                        except shutil.SameFileError:\n",
    "                            pass"
   ]
  },
  {
   "cell_type": "markdown",
   "metadata": {},
   "source": [
    "now I elect to delete the source folder, as it takes up nearly 60 GB of space."
   ]
  }
 ],
 "metadata": {
  "kernelspec": {
   "display_name": "Python 3.7.13 ('tf')",
   "language": "python",
   "name": "python3"
  },
  "language_info": {
   "codemirror_mode": {
    "name": "ipython",
    "version": 3
   },
   "file_extension": ".py",
   "mimetype": "text/x-python",
   "name": "python",
   "nbconvert_exporter": "python",
   "pygments_lexer": "ipython3",
   "version": "3.7.13"
  },
  "orig_nbformat": 4,
  "vscode": {
   "interpreter": {
    "hash": "dc1b947dce198ff7f2d2cb152b2cbb61132fce4429fa808fd5b89ac4d7df39fa"
   }
  }
 },
 "nbformat": 4,
 "nbformat_minor": 2
}
