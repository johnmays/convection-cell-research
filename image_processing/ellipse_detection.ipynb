{
 "cells": [
  {
   "cell_type": "markdown",
   "metadata": {},
   "source": [
    "### Ellipse Detection (Custom Method)\n",
    "Inspired by Random Seeding Algorithm"
   ]
  },
  {
   "cell_type": "markdown",
   "metadata": {},
   "source": [
    "Steps:\n",
    "1. Set max radius and min radius parameters\n",
    "2. Have a function that scans pixels of a desired radius\n",
    "3. Give padding of max radius to image\n",
    "4. For every pixel in image, track mean intensity per pixel within ring (count up w/ radii) -> take |maximum shift| over |mean shift| and that is the intensity (representative of likelihood for particle centroid) for selected pixel in image\n",
    "6. Normalize intensity values\n",
    "7. Process to highlight local maxima\n"
   ]
  },
  {
   "cell_type": "code",
   "execution_count": null,
   "metadata": {},
   "outputs": [],
   "source": []
  }
 ],
 "metadata": {
  "language_info": {
   "name": "python"
  },
  "orig_nbformat": 4
 },
 "nbformat": 4,
 "nbformat_minor": 2
}
