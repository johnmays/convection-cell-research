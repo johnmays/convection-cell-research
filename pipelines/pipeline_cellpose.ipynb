{
 "cells": [
  {
   "cell_type": "markdown",
   "metadata": {},
   "source": [
    "# Constructing a Segmentation Pipeline (with the Cellpose Network)\n",
    "1. Possible Preprocessing\n",
    "    - denoising with blur\n",
    "2. Running Image through Cellpose Cyto Model\n",
    "3. Particle Ananlysis"
   ]
  },
  {
   "cell_type": "code",
   "execution_count": 1,
   "metadata": {},
   "outputs": [],
   "source": [
    "# import cv2 as cv\n",
    "# import matplotlib as mpl\n",
    "import matplotlib.pyplot as plt\n",
    "import numpy as np\n",
    "import os\n",
    "import cellpose"
   ]
  },
  {
   "cell_type": "code",
   "execution_count": null,
   "metadata": {},
   "outputs": [],
   "source": [
    " "
   ]
  }
 ],
 "metadata": {
  "kernelspec": {
   "display_name": "Python 3.8.13 ('cellpose')",
   "language": "python",
   "name": "python3"
  },
  "language_info": {
   "codemirror_mode": {
    "name": "ipython",
    "version": 3
   },
   "file_extension": ".py",
   "mimetype": "text/x-python",
   "name": "python",
   "nbconvert_exporter": "python",
   "pygments_lexer": "ipython3",
   "version": "3.8.13"
  },
  "orig_nbformat": 4,
  "vscode": {
   "interpreter": {
    "hash": "b7a6379ef49f3fec23a04d2befeb41f93eb14fcb659abcb202f5796b7c594593"
   }
  }
 },
 "nbformat": 4,
 "nbformat_minor": 2
}
